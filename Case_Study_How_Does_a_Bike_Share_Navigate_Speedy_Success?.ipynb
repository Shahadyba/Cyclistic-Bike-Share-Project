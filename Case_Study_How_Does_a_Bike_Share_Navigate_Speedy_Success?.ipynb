{
  "cells": [
    {
      "cell_type": "markdown",
      "metadata": {
        "id": "view-in-github",
        "colab_type": "text"
      },
      "source": [
        "<a href=\"https://colab.research.google.com/github/Shahadyba/Cyclistic-Bike-Share-Project/blob/main/Case_Study_How_Does_a_Bike_Share_Navigate_Speedy_Success%3F.ipynb\" target=\"_parent\"><img src=\"https://colab.research.google.com/assets/colab-badge.svg\" alt=\"Open In Colab\"/></a>"
      ]
    },
    {
      "cell_type": "markdown",
      "source": [
        "Hi!\n",
        "\n",
        "Recently I Finished the Google Data Analytics Professional Certificate Program on Coursera. As part of this course, I completed a data analysis case study to showcase the conceptual skills I learned throughout the course. \n",
        "\n",
        "For this project, I used Python for Data Preparation, Analysis, and Tableau for Visualization.\n",
        "\n",
        "## **Scenario**\n",
        "Cyclistic is a bike-share company. It has two pricing plans: single-ride passes, full-day passes. Customers who purchase single-ride or full-day passes are referred to as *Casual riders*. Customers who purchase annual memberships are *Annual members*.\n",
        "\n",
        "\n",
        "The director of marketing believes the company’s future success depends on maximizing the number of annual memberships. The goal is to design marketing strategies aimed at converting casual riders into annual members. In order to do that, the marketing analyst team needs to better understand how annual members and casual riders differ, why casual riders would buy a membership, and how digital media could affect their marketing tactics.\n",
        "\n",
        "However, As junior data analyst my Assignment is to understand how casual riders and annual members use Cyclistic bikes differently.\n",
        "\n",
        "**Table of Content**\n",
        "\n",
        "\n",
        "1. Business Task Statement\n",
        "2. Description of all data sources used\n",
        "3. Documentation of any cleaning or manipulation of data\n",
        "4. Summary of Analysis\n",
        "5. Visualizations and key findings\n",
        "6. Recommendations\n"
      ],
      "metadata": {
        "id": "14_hZEnpYKUZ"
      }
    },
    {
      "cell_type": "markdown",
      "metadata": {
        "id": "WancquCGwlvk"
      },
      "source": [
        "\n",
        "### **1. Business Task Statement**\n",
        "Analyze the Cyclistic historical bike trip data to understand the difference between members and casual riders.\n",
        "\n",
        "\n",
        "### **2. Description of Data Sources**\n",
        "\n",
        "The data has been made available by Motivate International Inc. I used the last 12 months (Q2 2019 to Q1 2020).\n",
        "Each file represents a quarter and has a different structure than the other files.\n",
        "\n",
        "Prepare Process includes:\n",
        "* Unify columns names\n",
        "* Drop the additional column that exists in some files but not all of them.\n",
        "* Check for Missing values and Duplicate records\n",
        "* Join all files into one Dataframe"
      ]
    },
    {
      "cell_type": "code",
      "execution_count": null,
      "metadata": {
        "id": "tTsRcZRKzjn9"
      },
      "outputs": [],
      "source": [
        "import pandas as pd\n",
        "from pandas.api.types import CategoricalDtype\n",
        "import numpy as np"
      ]
    },
    {
      "cell_type": "code",
      "execution_count": null,
      "metadata": {
        "id": "YJxHKQkb25C3"
      },
      "outputs": [],
      "source": [
        "Q1_df = pd.read_csv(\"/content/drive/MyDrive/Data/Divvy_Trips_2020_Q1.csv\")\n",
        "Q2_df = pd.read_csv(\"/content/drive/MyDrive/Data/Divvy_Trips_2019_Q2.csv\")\n",
        "Q3_df = pd.read_csv(\"/content/drive/MyDrive/Data/Divvy_Trips_2019_Q3.csv\")\n",
        "Q4_df = pd.read_csv(\"/content/drive/MyDrive/Data/Divvy_Trips_2019_Q4.csv\")"
      ]
    },
    {
      "cell_type": "code",
      "execution_count": null,
      "metadata": {
        "colab": {
          "base_uri": "https://localhost:8080/"
        },
        "id": "RR_J6LGp3Jvb",
        "outputId": "13c3cbe3-dea1-4bfc-aa69-7ef271ad2745"
      },
      "outputs": [
        {
          "output_type": "stream",
          "name": "stdout",
          "text": [
            "Index(['ride_id', 'rideable_type', 'started_at', 'ended_at',\n",
            "       'start_station_name', 'start_station_id', 'end_station_name',\n",
            "       'end_station_id', 'start_lat', 'start_lng', 'end_lat', 'end_lng',\n",
            "       'member_casual'],\n",
            "      dtype='object')\n",
            "Index(['01 - Rental Details Rental ID', '01 - Rental Details Local Start Time',\n",
            "       '01 - Rental Details Local End Time', '01 - Rental Details Bike ID',\n",
            "       '01 - Rental Details Duration In Seconds Uncapped',\n",
            "       '03 - Rental Start Station ID', '03 - Rental Start Station Name',\n",
            "       '02 - Rental End Station ID', '02 - Rental End Station Name',\n",
            "       'User Type', 'Member Gender',\n",
            "       '05 - Member Details Member Birthday Year'],\n",
            "      dtype='object')\n",
            "Index(['trip_id', 'start_time', 'end_time', 'bikeid', 'tripduration',\n",
            "       'from_station_id', 'from_station_name', 'to_station_id',\n",
            "       'to_station_name', 'usertype', 'gender', 'birthyear'],\n",
            "      dtype='object')\n",
            "Index(['trip_id', 'start_time', 'end_time', 'bikeid', 'tripduration',\n",
            "       'from_station_id', 'from_station_name', 'to_station_id',\n",
            "       'to_station_name', 'usertype', 'gender', 'birthyear'],\n",
            "      dtype='object')\n"
          ]
        }
      ],
      "source": [
        "print(Q1_df.columns)\n",
        "print(Q2_df.columns)\n",
        "print(Q3_df.columns)\n",
        "print(Q4_df.columns)"
      ]
    },
    {
      "cell_type": "code",
      "source": [
        "Q1_df.drop(columns=['start_lat', 'start_lng', 'end_lat', 'end_lng'],inplace=True)\n",
        "Q2_df.drop(columns=['Member Gender','05 - Member Details Member Birthday Year', '01 - Rental Details Duration In Seconds Uncapped'], inplace=True)\n",
        "Q3_df.drop(columns=['gender', 'birthyear','tripduration'], inplace=True)\n",
        "Q4_df.drop(columns=['gender', 'birthyear','tripduration'], inplace=True)"
      ],
      "metadata": {
        "id": "iOEQfimvxQs6"
      },
      "execution_count": null,
      "outputs": []
    },
    {
      "cell_type": "code",
      "execution_count": null,
      "metadata": {
        "id": "V9fhtXJ-3xHE"
      },
      "outputs": [],
      "source": [
        "# Unify Column names\n",
        "Q2_df.rename(columns={'01 - Rental Details Rental ID': 'ride_id', '01 - Rental Details Bike ID': 'rideable_type',\n",
        "\"01 - Rental Details Local Start Time\":\"started_at\",\"01 - Rental Details Local End Time\":\"ended_at\",\n",
        "\"03 - Rental Start Station Name\":\"start_station_name\",\"03 - Rental Start Station ID\":\"start_station_id\",\n",
        "\"02 - Rental End Station Name\":\"end_station_name\",\"02 - Rental End Station ID\":\"end_station_id\",\"User Type\":\"member_casual\"}, inplace=True)\n",
        "\n",
        "Q3_df.rename(columns={'trip_id':'ride_id', 'start_time':\"started_at\", 'end_time':\"ended_at\", 'bikeid':'rideable_type',\n",
        "       'from_station_id':\"start_station_id\", 'from_station_name':\"start_station_name\", 'to_station_id':\"end_station_id\",\n",
        "       'to_station_name':\"end_station_name\", 'usertype':\"member_casual\"}, inplace=True)\n",
        "       \n",
        "Q4_df.rename(columns={'trip_id':'ride_id', 'start_time':\"started_at\", 'end_time':\"ended_at\", 'bikeid':'rideable_type',\n",
        "       'from_station_id':\"start_station_id\", 'from_station_name':\"start_station_name\", 'to_station_id':\"end_station_id\",\n",
        "       'to_station_name':\"end_station_name\", 'usertype':\"member_casual\"}, inplace=True)"
      ]
    },
    {
      "cell_type": "code",
      "execution_count": null,
      "metadata": {
        "id": "qHojmgwC36U-"
      },
      "outputs": [],
      "source": [
        "# Join Dfs into one \n",
        "frames = [Q1_df,Q2_df,Q3_df,Q4_df]\n",
        "df = pd.concat(frames)"
      ]
    },
    {
      "cell_type": "code",
      "execution_count": null,
      "metadata": {
        "id": "fvpXnD2J4A1o",
        "colab": {
          "base_uri": "https://localhost:8080/"
        },
        "outputId": "ddd66d76-0780-448e-d3cc-19e85931c4dd"
      },
      "outputs": [
        {
          "output_type": "execute_result",
          "data": {
            "text/plain": [
              "ride_id               0\n",
              "rideable_type         0\n",
              "started_at            0\n",
              "ended_at              0\n",
              "start_station_name    0\n",
              "start_station_id      0\n",
              "end_station_name      1\n",
              "end_station_id        1\n",
              "member_casual         0\n",
              "dtype: int64"
            ]
          },
          "metadata": {},
          "execution_count": 7
        }
      ],
      "source": [
        "df.isna().sum()"
      ]
    },
    {
      "cell_type": "code",
      "source": [
        "df.duplicated().sum()"
      ],
      "metadata": {
        "colab": {
          "base_uri": "https://localhost:8080/"
        },
        "id": "JXK-r_BXn3D1",
        "outputId": "0066dbb2-173e-41a2-8643-c4cc4eb43125"
      },
      "execution_count": null,
      "outputs": [
        {
          "output_type": "execute_result",
          "data": {
            "text/plain": [
              "0"
            ]
          },
          "metadata": {},
          "execution_count": 8
        }
      ]
    },
    {
      "cell_type": "code",
      "execution_count": null,
      "metadata": {
        "colab": {
          "base_uri": "https://localhost:8080/"
        },
        "id": "Q2jguSuQ4L-1",
        "outputId": "65968418-1371-437e-8afc-c603959aaf37"
      },
      "outputs": [
        {
          "output_type": "execute_result",
          "data": {
            "text/plain": [
              "Index(['ride_id', 'rideable_type', 'started_at', 'ended_at',\n",
              "       'start_station_name', 'start_station_id', 'end_station_name',\n",
              "       'end_station_id', 'member_casual'],\n",
              "      dtype='object')"
            ]
          },
          "metadata": {},
          "execution_count": 9
        }
      ],
      "source": [
        "df.columns "
      ]
    },
    {
      "cell_type": "code",
      "execution_count": null,
      "metadata": {
        "colab": {
          "base_uri": "https://localhost:8080/"
        },
        "id": "b_W01BhP4SrW",
        "outputId": "620bb89c-ffc4-44e2-f788-e0b809fcf8a3"
      },
      "outputs": [
        {
          "output_type": "execute_result",
          "data": {
            "text/plain": [
              "(3879822, 9)"
            ]
          },
          "metadata": {},
          "execution_count": 10
        }
      ],
      "source": [
        "df.shape "
      ]
    },
    {
      "cell_type": "code",
      "execution_count": null,
      "metadata": {
        "id": "YaY49jRs4XBF",
        "colab": {
          "base_uri": "https://localhost:8080/",
          "height": 337
        },
        "outputId": "6b34968d-8094-4f11-bb1b-24bcc4c60da7"
      },
      "outputs": [
        {
          "output_type": "execute_result",
          "data": {
            "text/plain": [
              "            ride_id rideable_type           started_at             ended_at  \\\n",
              "0  EACB19130B0CDA4A   docked_bike  2020-01-21 20:06:59  2020-01-21 20:14:30   \n",
              "1  8FED874C809DC021   docked_bike  2020-01-30 14:22:39  2020-01-30 14:26:22   \n",
              "2  789F3C21E472CA96   docked_bike  2020-01-09 19:29:26  2020-01-09 19:32:17   \n",
              "3  C9A388DAC6ABF313   docked_bike  2020-01-06 16:17:07  2020-01-06 16:25:56   \n",
              "4  943BC3CBECCFD662   docked_bike  2020-01-30 08:37:16  2020-01-30 08:42:48   \n",
              "\n",
              "         start_station_name  start_station_id                end_station_name  \\\n",
              "0  Western Ave & Leland Ave               239           Clark St & Leland Ave   \n",
              "1   Clark St & Montrose Ave               234  Southport Ave & Irving Park Rd   \n",
              "2    Broadway & Belmont Ave               296        Wilton Ave & Belmont Ave   \n",
              "3    Clark St & Randolph St                51        Fairbanks Ct & Grand Ave   \n",
              "4      Clinton St & Lake St                66           Wells St & Hubbard St   \n",
              "\n",
              "   end_station_id member_casual  \n",
              "0           326.0        member  \n",
              "1           318.0        member  \n",
              "2           117.0        member  \n",
              "3            24.0        member  \n",
              "4           212.0        member  "
            ],
            "text/html": [
              "\n",
              "  <div id=\"df-7b472bca-f878-4784-986e-f66f76c81181\">\n",
              "    <div class=\"colab-df-container\">\n",
              "      <div>\n",
              "<style scoped>\n",
              "    .dataframe tbody tr th:only-of-type {\n",
              "        vertical-align: middle;\n",
              "    }\n",
              "\n",
              "    .dataframe tbody tr th {\n",
              "        vertical-align: top;\n",
              "    }\n",
              "\n",
              "    .dataframe thead th {\n",
              "        text-align: right;\n",
              "    }\n",
              "</style>\n",
              "<table border=\"1\" class=\"dataframe\">\n",
              "  <thead>\n",
              "    <tr style=\"text-align: right;\">\n",
              "      <th></th>\n",
              "      <th>ride_id</th>\n",
              "      <th>rideable_type</th>\n",
              "      <th>started_at</th>\n",
              "      <th>ended_at</th>\n",
              "      <th>start_station_name</th>\n",
              "      <th>start_station_id</th>\n",
              "      <th>end_station_name</th>\n",
              "      <th>end_station_id</th>\n",
              "      <th>member_casual</th>\n",
              "    </tr>\n",
              "  </thead>\n",
              "  <tbody>\n",
              "    <tr>\n",
              "      <th>0</th>\n",
              "      <td>EACB19130B0CDA4A</td>\n",
              "      <td>docked_bike</td>\n",
              "      <td>2020-01-21 20:06:59</td>\n",
              "      <td>2020-01-21 20:14:30</td>\n",
              "      <td>Western Ave &amp; Leland Ave</td>\n",
              "      <td>239</td>\n",
              "      <td>Clark St &amp; Leland Ave</td>\n",
              "      <td>326.0</td>\n",
              "      <td>member</td>\n",
              "    </tr>\n",
              "    <tr>\n",
              "      <th>1</th>\n",
              "      <td>8FED874C809DC021</td>\n",
              "      <td>docked_bike</td>\n",
              "      <td>2020-01-30 14:22:39</td>\n",
              "      <td>2020-01-30 14:26:22</td>\n",
              "      <td>Clark St &amp; Montrose Ave</td>\n",
              "      <td>234</td>\n",
              "      <td>Southport Ave &amp; Irving Park Rd</td>\n",
              "      <td>318.0</td>\n",
              "      <td>member</td>\n",
              "    </tr>\n",
              "    <tr>\n",
              "      <th>2</th>\n",
              "      <td>789F3C21E472CA96</td>\n",
              "      <td>docked_bike</td>\n",
              "      <td>2020-01-09 19:29:26</td>\n",
              "      <td>2020-01-09 19:32:17</td>\n",
              "      <td>Broadway &amp; Belmont Ave</td>\n",
              "      <td>296</td>\n",
              "      <td>Wilton Ave &amp; Belmont Ave</td>\n",
              "      <td>117.0</td>\n",
              "      <td>member</td>\n",
              "    </tr>\n",
              "    <tr>\n",
              "      <th>3</th>\n",
              "      <td>C9A388DAC6ABF313</td>\n",
              "      <td>docked_bike</td>\n",
              "      <td>2020-01-06 16:17:07</td>\n",
              "      <td>2020-01-06 16:25:56</td>\n",
              "      <td>Clark St &amp; Randolph St</td>\n",
              "      <td>51</td>\n",
              "      <td>Fairbanks Ct &amp; Grand Ave</td>\n",
              "      <td>24.0</td>\n",
              "      <td>member</td>\n",
              "    </tr>\n",
              "    <tr>\n",
              "      <th>4</th>\n",
              "      <td>943BC3CBECCFD662</td>\n",
              "      <td>docked_bike</td>\n",
              "      <td>2020-01-30 08:37:16</td>\n",
              "      <td>2020-01-30 08:42:48</td>\n",
              "      <td>Clinton St &amp; Lake St</td>\n",
              "      <td>66</td>\n",
              "      <td>Wells St &amp; Hubbard St</td>\n",
              "      <td>212.0</td>\n",
              "      <td>member</td>\n",
              "    </tr>\n",
              "  </tbody>\n",
              "</table>\n",
              "</div>\n",
              "      <button class=\"colab-df-convert\" onclick=\"convertToInteractive('df-7b472bca-f878-4784-986e-f66f76c81181')\"\n",
              "              title=\"Convert this dataframe to an interactive table.\"\n",
              "              style=\"display:none;\">\n",
              "        \n",
              "  <svg xmlns=\"http://www.w3.org/2000/svg\" height=\"24px\"viewBox=\"0 0 24 24\"\n",
              "       width=\"24px\">\n",
              "    <path d=\"M0 0h24v24H0V0z\" fill=\"none\"/>\n",
              "    <path d=\"M18.56 5.44l.94 2.06.94-2.06 2.06-.94-2.06-.94-.94-2.06-.94 2.06-2.06.94zm-11 1L8.5 8.5l.94-2.06 2.06-.94-2.06-.94L8.5 2.5l-.94 2.06-2.06.94zm10 10l.94 2.06.94-2.06 2.06-.94-2.06-.94-.94-2.06-.94 2.06-2.06.94z\"/><path d=\"M17.41 7.96l-1.37-1.37c-.4-.4-.92-.59-1.43-.59-.52 0-1.04.2-1.43.59L10.3 9.45l-7.72 7.72c-.78.78-.78 2.05 0 2.83L4 21.41c.39.39.9.59 1.41.59.51 0 1.02-.2 1.41-.59l7.78-7.78 2.81-2.81c.8-.78.8-2.07 0-2.86zM5.41 20L4 18.59l7.72-7.72 1.47 1.35L5.41 20z\"/>\n",
              "  </svg>\n",
              "      </button>\n",
              "      \n",
              "  <style>\n",
              "    .colab-df-container {\n",
              "      display:flex;\n",
              "      flex-wrap:wrap;\n",
              "      gap: 12px;\n",
              "    }\n",
              "\n",
              "    .colab-df-convert {\n",
              "      background-color: #E8F0FE;\n",
              "      border: none;\n",
              "      border-radius: 50%;\n",
              "      cursor: pointer;\n",
              "      display: none;\n",
              "      fill: #1967D2;\n",
              "      height: 32px;\n",
              "      padding: 0 0 0 0;\n",
              "      width: 32px;\n",
              "    }\n",
              "\n",
              "    .colab-df-convert:hover {\n",
              "      background-color: #E2EBFA;\n",
              "      box-shadow: 0px 1px 2px rgba(60, 64, 67, 0.3), 0px 1px 3px 1px rgba(60, 64, 67, 0.15);\n",
              "      fill: #174EA6;\n",
              "    }\n",
              "\n",
              "    [theme=dark] .colab-df-convert {\n",
              "      background-color: #3B4455;\n",
              "      fill: #D2E3FC;\n",
              "    }\n",
              "\n",
              "    [theme=dark] .colab-df-convert:hover {\n",
              "      background-color: #434B5C;\n",
              "      box-shadow: 0px 1px 3px 1px rgba(0, 0, 0, 0.15);\n",
              "      filter: drop-shadow(0px 1px 2px rgba(0, 0, 0, 0.3));\n",
              "      fill: #FFFFFF;\n",
              "    }\n",
              "  </style>\n",
              "\n",
              "      <script>\n",
              "        const buttonEl =\n",
              "          document.querySelector('#df-7b472bca-f878-4784-986e-f66f76c81181 button.colab-df-convert');\n",
              "        buttonEl.style.display =\n",
              "          google.colab.kernel.accessAllowed ? 'block' : 'none';\n",
              "\n",
              "        async function convertToInteractive(key) {\n",
              "          const element = document.querySelector('#df-7b472bca-f878-4784-986e-f66f76c81181');\n",
              "          const dataTable =\n",
              "            await google.colab.kernel.invokeFunction('convertToInteractive',\n",
              "                                                     [key], {});\n",
              "          if (!dataTable) return;\n",
              "\n",
              "          const docLinkHtml = 'Like what you see? Visit the ' +\n",
              "            '<a target=\"_blank\" href=https://colab.research.google.com/notebooks/data_table.ipynb>data table notebook</a>'\n",
              "            + ' to learn more about interactive tables.';\n",
              "          element.innerHTML = '';\n",
              "          dataTable['output_type'] = 'display_data';\n",
              "          await google.colab.output.renderOutput(dataTable, element);\n",
              "          const docLink = document.createElement('div');\n",
              "          docLink.innerHTML = docLinkHtml;\n",
              "          element.appendChild(docLink);\n",
              "        }\n",
              "      </script>\n",
              "    </div>\n",
              "  </div>\n",
              "  "
            ]
          },
          "metadata": {},
          "execution_count": 11
        }
      ],
      "source": [
        "df.head()"
      ]
    },
    {
      "cell_type": "code",
      "execution_count": null,
      "metadata": {
        "id": "y3a0y2uL4fD3",
        "colab": {
          "base_uri": "https://localhost:8080/"
        },
        "outputId": "247bb146-908a-484a-cd95-a2b37e1e8e06"
      },
      "outputs": [
        {
          "output_type": "stream",
          "name": "stdout",
          "text": [
            "<class 'pandas.core.frame.DataFrame'>\n",
            "Int64Index: 3879822 entries, 0 to 704053\n",
            "Data columns (total 9 columns):\n",
            " #   Column              Dtype  \n",
            "---  ------              -----  \n",
            " 0   ride_id             object \n",
            " 1   rideable_type       object \n",
            " 2   started_at          object \n",
            " 3   ended_at            object \n",
            " 4   start_station_name  object \n",
            " 5   start_station_id    int64  \n",
            " 6   end_station_name    object \n",
            " 7   end_station_id      float64\n",
            " 8   member_casual       object \n",
            "dtypes: float64(1), int64(1), object(7)\n",
            "memory usage: 296.0+ MB\n"
          ]
        }
      ],
      "source": [
        "df.info()"
      ]
    },
    {
      "cell_type": "markdown",
      "metadata": {
        "id": "-u2wZYEMG3jz"
      },
      "source": [
        "### **3. Documentation of cleaning and manipulation of data**\n",
        "* Unify values of member_casual column into {'casual', 'member'} only\n",
        "* Create date columns (Year, Month, Day of Week, Hour)\n",
        "* Create \"ride_length\" column \n",
        "* Sort the dataframe by date\n",
        "* Exclude records when bikes were taken out of docks or nagitve \"ride_length\""
      ]
    },
    {
      "cell_type": "code",
      "source": [
        "df.dropna(inplace=True)"
      ],
      "metadata": {
        "id": "cPgfbIL9itFr"
      },
      "execution_count": null,
      "outputs": []
    },
    {
      "cell_type": "code",
      "execution_count": null,
      "metadata": {
        "colab": {
          "base_uri": "https://localhost:8080/"
        },
        "id": "YOSxZeVJ43UP",
        "outputId": "9b52951f-ff70-4bce-e7e2-b23876007353"
      },
      "outputs": [
        {
          "output_type": "execute_result",
          "data": {
            "text/plain": [
              "{'Casual', 'Member'}"
            ]
          },
          "metadata": {},
          "execution_count": 14
        }
      ],
      "source": [
        "# Unify Values of member_casual column\n",
        "df[\"member_casual\"].replace([\"Subscriber\",\"Customer\"],[\"member\",\"casual\"], inplace = True)\n",
        "df[\"member_casual\"] = df[\"member_casual\"].str.capitalize()\n",
        "set(df[\"member_casual\"])"
      ]
    },
    {
      "cell_type": "code",
      "execution_count": null,
      "metadata": {
        "id": "7DXb_vZm5CEm"
      },
      "outputs": [],
      "source": [
        "df['date'] = pd.to_datetime(df['started_at'])\n",
        "df['year'] =  df['date'].dt.year\n",
        "df['month'] = df['date'].dt.strftime('%b')\n",
        "df['day']=  df['date'].dt.day\n",
        "df['day_of_week'] = df['date'].dt.day_name()\n",
        "df['hour'] = df['date'].dt.hour"
      ]
    },
    {
      "cell_type": "code",
      "source": [
        "cats = ['Monday', 'Tuesday', 'Wednesday', 'Thursday', 'Friday', 'Saturday', 'Sunday']\n",
        "cat_type = CategoricalDtype(categories=cats, ordered=True)\n",
        "df['day_of_week'] = df['day_of_week'].astype(cat_type)"
      ],
      "metadata": {
        "id": "zWSIBoSGJ_bU"
      },
      "execution_count": null,
      "outputs": []
    },
    {
      "cell_type": "code",
      "execution_count": null,
      "metadata": {
        "id": "CFQvGgiK5QM6"
      },
      "outputs": [],
      "source": [
        "df['started_at']= pd.to_datetime(df['started_at'])\n",
        "df['ended_at']= pd.to_datetime(df['ended_at'])\n",
        "df['ride_length'] = (df.ended_at - df.started_at ).dt.seconds "
      ]
    },
    {
      "cell_type": "code",
      "execution_count": null,
      "metadata": {
        "id": "wTtkbHJR5z5z"
      },
      "outputs": [],
      "source": [
        "df = df.loc[(df['start_station_name']!=\"HQ QR\") | (df['ride_length'] > 0)]"
      ]
    },
    {
      "cell_type": "markdown",
      "metadata": {
        "id": "kuLZChEsHCbx"
      },
      "source": [
        "### **4. Summary of Analysis** "
      ]
    },
    {
      "cell_type": "code",
      "execution_count": null,
      "metadata": {
        "id": "bb8xIWbx4_GR",
        "colab": {
          "base_uri": "https://localhost:8080/"
        },
        "outputId": "603e5340-6994-4fca-92d1-8c91b220f7bb"
      },
      "outputs": [
        {
          "output_type": "execute_result",
          "data": {
            "text/plain": [
              "member_casual\n",
              "Casual     905860\n",
              "Member    2973868\n",
              "Name: member_casual, dtype: int64"
            ]
          },
          "metadata": {},
          "execution_count": 19
        }
      ],
      "source": [
        "df.groupby(['member_casual'])['member_casual'].count()"
      ]
    },
    {
      "cell_type": "code",
      "execution_count": null,
      "metadata": {
        "id": "YYd1UEOfaExE",
        "colab": {
          "base_uri": "https://localhost:8080/"
        },
        "outputId": "c51a1cd5-ab77-475d-f8ac-b02b89119324"
      },
      "outputs": [
        {
          "output_type": "execute_result",
          "data": {
            "text/plain": [
              "count    3.879728e+06\n",
              "mean     1.167912e+03\n",
              "std      2.406173e+03\n",
              "min      1.000000e+00\n",
              "25%      4.110000e+02\n",
              "50%      7.110000e+02\n",
              "75%      1.288000e+03\n",
              "max      8.639900e+04\n",
              "Name: ride_length, dtype: float64"
            ]
          },
          "metadata": {},
          "execution_count": 20
        }
      ],
      "source": [
        "df['ride_length'].describe()"
      ]
    },
    {
      "cell_type": "code",
      "execution_count": null,
      "metadata": {
        "id": "52KaBIkyaOnK",
        "colab": {
          "base_uri": "https://localhost:8080/",
          "height": 143
        },
        "outputId": "852481fc-7857-4fe3-9b04-9220f7f41eec"
      },
      "outputs": [
        {
          "output_type": "execute_result",
          "data": {
            "text/plain": [
              "                 count  min    max         mean  median\n",
              "member_casual                                          \n",
              "Casual          905860    1  86399  2437.263851  1541.0\n",
              "Member         2973868    1  86385   781.259517   589.0"
            ],
            "text/html": [
              "\n",
              "  <div id=\"df-b96422d2-cd5e-4748-97f8-6b6cbc100d0f\">\n",
              "    <div class=\"colab-df-container\">\n",
              "      <div>\n",
              "<style scoped>\n",
              "    .dataframe tbody tr th:only-of-type {\n",
              "        vertical-align: middle;\n",
              "    }\n",
              "\n",
              "    .dataframe tbody tr th {\n",
              "        vertical-align: top;\n",
              "    }\n",
              "\n",
              "    .dataframe thead th {\n",
              "        text-align: right;\n",
              "    }\n",
              "</style>\n",
              "<table border=\"1\" class=\"dataframe\">\n",
              "  <thead>\n",
              "    <tr style=\"text-align: right;\">\n",
              "      <th></th>\n",
              "      <th>count</th>\n",
              "      <th>min</th>\n",
              "      <th>max</th>\n",
              "      <th>mean</th>\n",
              "      <th>median</th>\n",
              "    </tr>\n",
              "    <tr>\n",
              "      <th>member_casual</th>\n",
              "      <th></th>\n",
              "      <th></th>\n",
              "      <th></th>\n",
              "      <th></th>\n",
              "      <th></th>\n",
              "    </tr>\n",
              "  </thead>\n",
              "  <tbody>\n",
              "    <tr>\n",
              "      <th>Casual</th>\n",
              "      <td>905860</td>\n",
              "      <td>1</td>\n",
              "      <td>86399</td>\n",
              "      <td>2437.263851</td>\n",
              "      <td>1541.0</td>\n",
              "    </tr>\n",
              "    <tr>\n",
              "      <th>Member</th>\n",
              "      <td>2973868</td>\n",
              "      <td>1</td>\n",
              "      <td>86385</td>\n",
              "      <td>781.259517</td>\n",
              "      <td>589.0</td>\n",
              "    </tr>\n",
              "  </tbody>\n",
              "</table>\n",
              "</div>\n",
              "      <button class=\"colab-df-convert\" onclick=\"convertToInteractive('df-b96422d2-cd5e-4748-97f8-6b6cbc100d0f')\"\n",
              "              title=\"Convert this dataframe to an interactive table.\"\n",
              "              style=\"display:none;\">\n",
              "        \n",
              "  <svg xmlns=\"http://www.w3.org/2000/svg\" height=\"24px\"viewBox=\"0 0 24 24\"\n",
              "       width=\"24px\">\n",
              "    <path d=\"M0 0h24v24H0V0z\" fill=\"none\"/>\n",
              "    <path d=\"M18.56 5.44l.94 2.06.94-2.06 2.06-.94-2.06-.94-.94-2.06-.94 2.06-2.06.94zm-11 1L8.5 8.5l.94-2.06 2.06-.94-2.06-.94L8.5 2.5l-.94 2.06-2.06.94zm10 10l.94 2.06.94-2.06 2.06-.94-2.06-.94-.94-2.06-.94 2.06-2.06.94z\"/><path d=\"M17.41 7.96l-1.37-1.37c-.4-.4-.92-.59-1.43-.59-.52 0-1.04.2-1.43.59L10.3 9.45l-7.72 7.72c-.78.78-.78 2.05 0 2.83L4 21.41c.39.39.9.59 1.41.59.51 0 1.02-.2 1.41-.59l7.78-7.78 2.81-2.81c.8-.78.8-2.07 0-2.86zM5.41 20L4 18.59l7.72-7.72 1.47 1.35L5.41 20z\"/>\n",
              "  </svg>\n",
              "      </button>\n",
              "      \n",
              "  <style>\n",
              "    .colab-df-container {\n",
              "      display:flex;\n",
              "      flex-wrap:wrap;\n",
              "      gap: 12px;\n",
              "    }\n",
              "\n",
              "    .colab-df-convert {\n",
              "      background-color: #E8F0FE;\n",
              "      border: none;\n",
              "      border-radius: 50%;\n",
              "      cursor: pointer;\n",
              "      display: none;\n",
              "      fill: #1967D2;\n",
              "      height: 32px;\n",
              "      padding: 0 0 0 0;\n",
              "      width: 32px;\n",
              "    }\n",
              "\n",
              "    .colab-df-convert:hover {\n",
              "      background-color: #E2EBFA;\n",
              "      box-shadow: 0px 1px 2px rgba(60, 64, 67, 0.3), 0px 1px 3px 1px rgba(60, 64, 67, 0.15);\n",
              "      fill: #174EA6;\n",
              "    }\n",
              "\n",
              "    [theme=dark] .colab-df-convert {\n",
              "      background-color: #3B4455;\n",
              "      fill: #D2E3FC;\n",
              "    }\n",
              "\n",
              "    [theme=dark] .colab-df-convert:hover {\n",
              "      background-color: #434B5C;\n",
              "      box-shadow: 0px 1px 3px 1px rgba(0, 0, 0, 0.15);\n",
              "      filter: drop-shadow(0px 1px 2px rgba(0, 0, 0, 0.3));\n",
              "      fill: #FFFFFF;\n",
              "    }\n",
              "  </style>\n",
              "\n",
              "      <script>\n",
              "        const buttonEl =\n",
              "          document.querySelector('#df-b96422d2-cd5e-4748-97f8-6b6cbc100d0f button.colab-df-convert');\n",
              "        buttonEl.style.display =\n",
              "          google.colab.kernel.accessAllowed ? 'block' : 'none';\n",
              "\n",
              "        async function convertToInteractive(key) {\n",
              "          const element = document.querySelector('#df-b96422d2-cd5e-4748-97f8-6b6cbc100d0f');\n",
              "          const dataTable =\n",
              "            await google.colab.kernel.invokeFunction('convertToInteractive',\n",
              "                                                     [key], {});\n",
              "          if (!dataTable) return;\n",
              "\n",
              "          const docLinkHtml = 'Like what you see? Visit the ' +\n",
              "            '<a target=\"_blank\" href=https://colab.research.google.com/notebooks/data_table.ipynb>data table notebook</a>'\n",
              "            + ' to learn more about interactive tables.';\n",
              "          element.innerHTML = '';\n",
              "          dataTable['output_type'] = 'display_data';\n",
              "          await google.colab.output.renderOutput(dataTable, element);\n",
              "          const docLink = document.createElement('div');\n",
              "          docLink.innerHTML = docLinkHtml;\n",
              "          element.appendChild(docLink);\n",
              "        }\n",
              "      </script>\n",
              "    </div>\n",
              "  </div>\n",
              "  "
            ]
          },
          "metadata": {},
          "execution_count": 21
        }
      ],
      "source": [
        "df.groupby(\"member_casual\")[\"ride_length\"].agg(['count','min', 'max','mean','median'])"
      ]
    },
    {
      "cell_type": "code",
      "source": [
        "df.groupby([\"member_casual\",\"month\"])[\"ride_length\"].agg('count')"
      ],
      "metadata": {
        "id": "IFRS9PdU3poE",
        "colab": {
          "base_uri": "https://localhost:8080/"
        },
        "outputId": "d6fc61c7-0115-47a3-a5a2-1c5ac96606c3"
      },
      "execution_count": null,
      "outputs": [
        {
          "output_type": "execute_result",
          "data": {
            "text/plain": [
              "member_casual  month\n",
              "Casual         Apr       47744\n",
              "               Aug      186889\n",
              "               Dec       16430\n",
              "               Feb       12861\n",
              "               Jan        7785\n",
              "               Jul      175632\n",
              "               Jun      130218\n",
              "               Mar       27740\n",
              "               May       81624\n",
              "               Nov       18729\n",
              "               Oct       71035\n",
              "               Sep      129173\n",
              "Member         Apr      217566\n",
              "               Aug      403295\n",
              "               Dec      138662\n",
              "               Feb      126715\n",
              "               Jan      136099\n",
              "               Jul      381683\n",
              "               Jun      345177\n",
              "               Mar      115593\n",
              "               May      285834\n",
              "               Nov      158447\n",
              "               Oct      300751\n",
              "               Sep      364046\n",
              "Name: ride_length, dtype: int64"
            ]
          },
          "metadata": {},
          "execution_count": 22
        }
      ]
    },
    {
      "cell_type": "code",
      "execution_count": null,
      "metadata": {
        "id": "l5DJ6zIJw9Mi",
        "colab": {
          "base_uri": "https://localhost:8080/"
        },
        "outputId": "973b3134-9370-4afa-9102-c64afb8a336a"
      },
      "outputs": [
        {
          "output_type": "execute_result",
          "data": {
            "text/plain": [
              "member_casual  day_of_week\n",
              "Casual         Monday         2398.596114\n",
              "               Tuesday        2313.519062\n",
              "               Wednesday      2315.934002\n",
              "               Thursday       2326.034838\n",
              "               Friday         2385.262539\n",
              "               Saturday       2548.907012\n",
              "               Sunday         2553.735735\n",
              "Member         Monday          760.233880\n",
              "               Tuesday         758.170793\n",
              "               Wednesday       761.485691\n",
              "               Thursday        765.754036\n",
              "               Friday          758.507847\n",
              "               Saturday        872.319633\n",
              "               Sunday          867.644071\n",
              "Name: ride_length, dtype: float64"
            ]
          },
          "metadata": {},
          "execution_count": 23
        }
      ],
      "source": [
        "df.groupby([\"member_casual\",\"day_of_week\"])[\"ride_length\"].agg('mean')"
      ]
    },
    {
      "cell_type": "code",
      "execution_count": null,
      "metadata": {
        "id": "WGF0wh4j1sG0",
        "colab": {
          "base_uri": "https://localhost:8080/"
        },
        "outputId": "e331a2e5-165c-4374-f4a2-08e1a8e71959"
      },
      "outputs": [
        {
          "output_type": "execute_result",
          "data": {
            "text/plain": [
              "member_casual  day_of_week\n",
              "Casual         Monday         104418\n",
              "               Tuesday         91178\n",
              "               Wednesday       93169\n",
              "               Thursday       103334\n",
              "               Friday         122919\n",
              "               Saturday       209543\n",
              "               Sunday         181299\n",
              "Member         Monday         472196\n",
              "               Tuesday        508445\n",
              "               Wednesday      500330\n",
              "               Thursday       484177\n",
              "               Friday         452790\n",
              "               Saturday       287958\n",
              "               Sunday         267972\n",
              "Name: ride_length, dtype: int64"
            ]
          },
          "metadata": {},
          "execution_count": 24
        }
      ],
      "source": [
        "df.groupby([\"member_casual\",\"day_of_week\"])[\"ride_length\"].agg('count')"
      ]
    },
    {
      "cell_type": "code",
      "source": [
        "# hour column in term of 24 hour\n",
        "df.groupby([\"member_casual\",\"hour\"])[\"ride_length\"].agg('count')"
      ],
      "metadata": {
        "id": "suRSSShB3lfV",
        "colab": {
          "base_uri": "https://localhost:8080/"
        },
        "outputId": "05d06802-f11b-40d3-e093-3a325b875b4b"
      },
      "execution_count": null,
      "outputs": [
        {
          "output_type": "execute_result",
          "data": {
            "text/plain": [
              "member_casual  hour\n",
              "Casual         0         8363\n",
              "               1         5501\n",
              "               2         3361\n",
              "               3         1982\n",
              "               4         1196\n",
              "               5         2690\n",
              "               6         6291\n",
              "               7        13335\n",
              "               8        22478\n",
              "               9        29805\n",
              "               10       46399\n",
              "               11       61893\n",
              "               12       72023\n",
              "               13       77705\n",
              "               14       81352\n",
              "               15       82642\n",
              "               16       85432\n",
              "               17       86809\n",
              "               18       69299\n",
              "               19       51181\n",
              "               20       34930\n",
              "               21       25433\n",
              "               22       21421\n",
              "               23       14339\n",
              "Member         0        15749\n",
              "               1         8974\n",
              "               2         5230\n",
              "               3         3546\n",
              "               4         6686\n",
              "               5        34443\n",
              "               6       104094\n",
              "               7       229602\n",
              "               8       288164\n",
              "               9       137069\n",
              "               10      102288\n",
              "               11      122331\n",
              "               12      139549\n",
              "               13      135236\n",
              "               14      130495\n",
              "               15      166568\n",
              "               16      295834\n",
              "               17      391278\n",
              "               18      248234\n",
              "               19      159256\n",
              "               20      100127\n",
              "               21       71863\n",
              "               22       48800\n",
              "               23       28452\n",
              "Name: ride_length, dtype: int64"
            ]
          },
          "metadata": {},
          "execution_count": 25
        }
      ]
    },
    {
      "cell_type": "code",
      "source": [
        "# hour column in term of 12 hour\n",
        "df['hour'] = df['date'].dt.strftime('%I%p').str.lstrip('0')\n",
        "df.groupby([\"member_casual\",\"hour\"])[\"ride_length\"].agg('count')"
      ],
      "metadata": {
        "colab": {
          "base_uri": "https://localhost:8080/"
        },
        "id": "dHA270Mx_0tv",
        "outputId": "8a156f9a-4275-4585-d7a9-d069778ed94b"
      },
      "execution_count": null,
      "outputs": [
        {
          "output_type": "execute_result",
          "data": {
            "text/plain": [
              "member_casual  hour\n",
              "Casual         10AM     46399\n",
              "               10PM     21421\n",
              "               11AM     61893\n",
              "               11PM     14339\n",
              "               12AM      8363\n",
              "               12PM     72023\n",
              "               1AM       5501\n",
              "               1PM      77705\n",
              "               2AM       3361\n",
              "               2PM      81352\n",
              "               3AM       1982\n",
              "               3PM      82642\n",
              "               4AM       1196\n",
              "               4PM      85432\n",
              "               5AM       2690\n",
              "               5PM      86809\n",
              "               6AM       6291\n",
              "               6PM      69299\n",
              "               7AM      13335\n",
              "               7PM      51181\n",
              "               8AM      22478\n",
              "               8PM      34930\n",
              "               9AM      29805\n",
              "               9PM      25433\n",
              "Member         10AM    102288\n",
              "               10PM     48800\n",
              "               11AM    122331\n",
              "               11PM     28452\n",
              "               12AM     15749\n",
              "               12PM    139549\n",
              "               1AM       8974\n",
              "               1PM     135236\n",
              "               2AM       5230\n",
              "               2PM     130495\n",
              "               3AM       3546\n",
              "               3PM     166568\n",
              "               4AM       6686\n",
              "               4PM     295834\n",
              "               5AM      34443\n",
              "               5PM     391278\n",
              "               6AM     104094\n",
              "               6PM     248234\n",
              "               7AM     229602\n",
              "               7PM     159256\n",
              "               8AM     288164\n",
              "               8PM     100127\n",
              "               9AM     137069\n",
              "               9PM      71863\n",
              "Name: ride_length, dtype: int64"
            ]
          },
          "metadata": {},
          "execution_count": 27
        }
      ]
    },
    {
      "cell_type": "markdown",
      "source": [
        "### **5. Visualizations and key findings**"
      ],
      "metadata": {
        "id": "vjABECYyfs7r"
      }
    },
    {
      "cell_type": "code",
      "source": [
        "#@title\n",
        "%%html \n",
        "<div class='tableauPlaceholder' id='viz1677068488365' style='position: relative'><noscript><a href='#'><img alt='Cyclistic is a bike-share company. ' src='https:&#47;&#47;public.tableau.com&#47;static&#47;images&#47;Cy&#47;Cyclistic_CapstoneProject_16770685083370&#47;Dashboard1&#47;1_rss.png' style='border: none' /></a></noscript><object class='tableauViz'  style='display:none;'><param name='host_url' value='https%3A%2F%2Fpublic.tableau.com%2F' /> <param name='embed_code_version' value='3' /> <param name='site_root' value='' /><param name='name' value='Cyclistic_CapstoneProject_16770685083370&#47;Dashboard1' /><param name='tabs' value='no' /><param name='toolbar' value='yes' /><param name='static_image' value='https:&#47;&#47;public.tableau.com&#47;static&#47;images&#47;Cy&#47;Cyclistic_CapstoneProject_16770685083370&#47;Dashboard1&#47;1.png' /> <param name='animate_transition' value='yes' /><param name='display_static_image' value='yes' /><param name='display_spinner' value='yes' /><param name='display_overlay' value='yes' /><param name='display_count' value='yes' /><param name='language' value='en-US' /><param name='filter' value='publish=yes' /></object></div>                <script type='text/javascript'>                    var divElement = document.getElementById('viz1677068488365');                    var vizElement = divElement.getElementsByTagName('object')[0];                    if ( divElement.offsetWidth > 800 ) { vizElement.style.width='800px';vizElement.style.height='827px';} else if ( divElement.offsetWidth > 500 ) { vizElement.style.width='800px';vizElement.style.height='827px';} else { vizElement.style.width='100%';vizElement.style.height='1427px';}                     var scriptElement = document.createElement('script');                    scriptElement.src = 'https://public.tableau.com/javascripts/api/viz_v1.js';                    vizElement.parentNode.insertBefore(scriptElement, vizElement);                </script>"
      ],
      "metadata": {
        "colab": {
          "base_uri": "https://localhost:8080/",
          "height": 844
        },
        "id": "jsDhgy3iIPF2",
        "outputId": "508f4982-a562-4dd9-9817-88a076266dfc"
      },
      "execution_count": null,
      "outputs": [
        {
          "output_type": "display_data",
          "data": {
            "text/plain": [
              "<IPython.core.display.HTML object>"
            ],
            "text/html": [
              "<div class='tableauPlaceholder' id='viz1677068488365' style='position: relative'><noscript><a href='#'><img alt='Cyclistic is a bike-share company. ' src='https:&#47;&#47;public.tableau.com&#47;static&#47;images&#47;Cy&#47;Cyclistic_CapstoneProject_16770685083370&#47;Dashboard1&#47;1_rss.png' style='border: none' /></a></noscript><object class='tableauViz'  style='display:none;'><param name='host_url' value='https%3A%2F%2Fpublic.tableau.com%2F' /> <param name='embed_code_version' value='3' /> <param name='site_root' value='' /><param name='name' value='Cyclistic_CapstoneProject_16770685083370&#47;Dashboard1' /><param name='tabs' value='no' /><param name='toolbar' value='yes' /><param name='static_image' value='https:&#47;&#47;public.tableau.com&#47;static&#47;images&#47;Cy&#47;Cyclistic_CapstoneProject_16770685083370&#47;Dashboard1&#47;1.png' /> <param name='animate_transition' value='yes' /><param name='display_static_image' value='yes' /><param name='display_spinner' value='yes' /><param name='display_overlay' value='yes' /><param name='display_count' value='yes' /><param name='language' value='en-US' /><param name='filter' value='publish=yes' /></object></div>                <script type='text/javascript'>                    var divElement = document.getElementById('viz1677068488365');                    var vizElement = divElement.getElementsByTagName('object')[0];                    if ( divElement.offsetWidth > 800 ) { vizElement.style.width='800px';vizElement.style.height='827px';} else if ( divElement.offsetWidth > 500 ) { vizElement.style.width='800px';vizElement.style.height='827px';} else { vizElement.style.width='100%';vizElement.style.height='1427px';}                     var scriptElement = document.createElement('script');                    scriptElement.src = 'https://public.tableau.com/javascripts/api/viz_v1.js';                    vizElement.parentNode.insertBefore(scriptElement, vizElement);                </script>\n"
            ]
          },
          "metadata": {}
        }
      ]
    },
    {
      "cell_type": "markdown",
      "source": [
        "### **Findings**:\n",
        "\n",
        "In general, \n",
        "*   The most frequent month is August.\n",
        "*   The number of rides decreases in November and maintains the same level until April. \n",
        "\n",
        "* The number of **Members** is higher than **Casuals**.\n",
        "* **Members** mostly use bikes on weekdays. **Casuals** mostly use bikes on weekends.\n",
        "\n",
        "During weekends: \n",
        "* **Members** and **Casuals** have the same usage time. They use bikes throughout the day from 5:00 to 23:00.\n",
        "\n",
        "During weekdays:\n",
        "* **Members** use bikes from 5:00 to 23:00. The most occurred hours are 8:00 and 17:00.\n",
        "* **Casuals** barely uses bike from 7:00 to 23:00. The most occurred hour is 17:00.\n",
        "\n",
        "Pickup and dropoff \n",
        "* Stations areas for **Causals** are surrounded by parks and museums.\n",
        "* Stations areas for **Members** are surrounded by the business center.\n",
        "\n"
      ],
      "metadata": {
        "id": "RvNIiUxSYSnp"
      }
    },
    {
      "cell_type": "markdown",
      "metadata": {
        "id": "kQ4ZSAUOYyF5"
      },
      "source": [
        "### **6. Recommendations**\n",
        "Based on my findings, I noticed that Causlas fall into two types \n",
        "<br>One who uses bikes only on weekends around parks and museums.<br>The second uses bikes on weekdays at 7:00 and 17:00.\n",
        "\n",
        "My suggestions are \n",
        "\n",
        "*   For type one, offer promotions that are specific to weekend usage.<br>For example, provide a free hour of rental if they rent for a certain amount of time.\n",
        "*   For type two, offer discounted rates for renting bikes during peak hours.\n",
        "*   Creating a loyalty program that rewards renters with discounts or free rentals after a certain number of rentals. \n"
      ]
    }
  ],
  "metadata": {
    "colab": {
      "provenance": [],
      "mount_file_id": "1eJ_Z78W9DFwwN53XS8hQoL7iH39yDcIQ",
      "authorship_tag": "ABX9TyNEIzxfyMwNelhmDuYk+0MC",
      "include_colab_link": true
    },
    "kernelspec": {
      "display_name": "Python 3",
      "name": "python3"
    },
    "language_info": {
      "name": "python"
    }
  },
  "nbformat": 4,
  "nbformat_minor": 0
}